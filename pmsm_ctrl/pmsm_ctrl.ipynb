{
 "cells": [
  {
   "cell_type": "code",
   "execution_count": 8,
   "metadata": {},
   "outputs": [],
   "source": [
    "import numpy as np\n",
    "import matplotlib.pyplot as plt\n",
    "from IPython.core.display import HTML,SVG\n",
    "from pydae.svg_tools import svg\n",
    "import scipy.optimize as sopt\n",
    "%config InlineBackend.figure_formats = ['svg']"
   ]
  },
  {
   "cell_type": "code",
   "execution_count": 9,
   "metadata": {},
   "outputs": [],
   "source": [
    "from pmsm_ctrl import pmsm_ctrl_class"
   ]
  },
  {
   "cell_type": "markdown",
   "metadata": {},
   "source": [
    "## Steady state"
   ]
  },
  {
   "cell_type": "code",
   "execution_count": 11,
   "metadata": {},
   "outputs": [
    {
     "name": "stdout",
     "output_type": "stream",
     "text": [
      "i_d   = -10.00\n",
      "i_q   = 33.33\n",
      "xi_i_d = -0.10\n",
      "xi_i_q =  0.33\n",
      "tau_r = 100.00\n",
      "omega_e = 200.00\n",
      "v_d   = -66.77\n",
      "v_q   = 180.33\n",
      "i_q_ref = 33.33\n",
      "L_s   =  0.01\n",
      "R_s   =  0.01\n",
      "N_pp  =  2.00\n",
      "Phi   =  1.00\n",
      "K_p   =  1.00\n",
      "K_i   =  1.00\n",
      "u_d   = -0.10\n",
      "u_q   =  0.33\n",
      "tau_r_ref = 100.00\n",
      "v_pk  = 192.30\n",
      "i_pk  = 34.80\n",
      "omega_r = 100.00\n"
     ]
    }
   ],
   "source": [
    "pm = pmsm_ctrl_class()\n",
    "pm.ini({'tau_r_ref':100,'omega_r':100,'i_d_ref':-10},0)\n",
    "pm.report_x()\n",
    "pm.report_y()\n",
    "pm.report_params()\n",
    "pm.report_z()"
   ]
  },
  {
   "cell_type": "markdown",
   "metadata": {},
   "source": [
    "## Time domain simulation"
   ]
  },
  {
   "cell_type": "code",
   "execution_count": 17,
   "metadata": {},
   "outputs": [],
   "source": [
    "pm = pmsm_ctrl_class()\n",
    "pm.Dt = 0.0001\n",
    "pm.ini({'tau_r_ref':0},1)\n",
    "pm.run(  0.1,{'tau_r_ref':0.0})\n",
    "pm.run(  0.2,{'tau_r_ref':100.0})\n",
    "pm.run(  0.3,{'omega_r':100.0})\n",
    "pm.run(  0.4,{'i_d_ref':-10.0})\n",
    "\n",
    "pm.post();"
   ]
  },
  {
   "cell_type": "markdown",
   "metadata": {},
   "source": [
    "## Results"
   ]
  },
  {
   "cell_type": "code",
   "execution_count": 19,
   "metadata": {},
   "outputs": [
    {
     "data": {
      "application/vnd.jupyter.widget-view+json": {
       "model_id": "9ca627a3d2d5430b94b5e7e5992bcbdb",
       "version_major": 2,
       "version_minor": 0
      },
      "text/plain": [
       "Canvas(toolbar=Toolbar(toolitems=[('Home', 'Reset original view', 'home', 'home'), ('Back', 'Back to previous …"
      ]
     },
     "metadata": {},
     "output_type": "display_data"
    }
   ],
   "source": [
    "fig, axes = plt.subplots(nrows=2,ncols=2, figsize=(8, 6), dpi=100)\n",
    "\n",
    "# torques\n",
    "axes[0,0].plot(pm.Time, pm.get_values('tau_r_ref'), label=r'$\\tau^\\star$')\n",
    "axes[0,0].plot(pm.Time, pm.get_values('tau_r'), label=r'$\\tau$')\n",
    "\n",
    "# speeds\n",
    "axes[0,1].plot(pm.Time, pm.get_values('omega_r'), label=r'$\\omega_r$')\n",
    "\n",
    "# voltages\n",
    "axes[1,0].plot(pm.Time, pm.get_values('v_d'), label=f'$v_d$')\n",
    "axes[1,0].plot(pm.Time, pm.get_values('v_q'), label=f'$v_q$')\n",
    "axes[1,0].plot(pm.Time, pm.get_values('v_pk'), label=f'$|v_{{pk}}|$')\n",
    "\n",
    "# currents\n",
    "axes[1,1].plot(pm.Time, pm.get_values('i_d'), label=f'$i_d$')\n",
    "axes[1,1].plot(pm.Time, pm.get_values('i_q'), label=f'$i_q$')\n",
    "axes[1,1].plot(pm.Time, pm.get_values('i_pk'), label=f'$i_{{pk}}$')\n",
    "\n",
    "for ax in axes.flatten():\n",
    "    ax.grid()\n",
    "    ax.legend()\n",
    "axes[1,0].set_xlabel('Time (s)')\n",
    "axes[1,1].set_xlabel('Time (s)')\n",
    "fig.tight_layout()"
   ]
  },
  {
   "cell_type": "code",
   "execution_count": null,
   "metadata": {},
   "outputs": [],
   "source": []
  }
 ],
 "metadata": {
  "kernelspec": {
   "display_name": "Python 3 (ipykernel)",
   "language": "python",
   "name": "python3"
  },
  "language_info": {
   "codemirror_mode": {
    "name": "ipython",
    "version": 3
   },
   "file_extension": ".py",
   "mimetype": "text/x-python",
   "name": "python",
   "nbconvert_exporter": "python",
   "pygments_lexer": "ipython3",
   "version": "3.9.7"
  }
 },
 "nbformat": 4,
 "nbformat_minor": 4
}
