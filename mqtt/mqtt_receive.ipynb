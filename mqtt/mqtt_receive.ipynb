{
 "cells": [
  {
   "cell_type": "code",
   "execution_count": 1,
   "metadata": {},
   "outputs": [],
   "source": [
    "import paho.mqtt.client as mqtt\n",
    "import time\n",
    "import ipywidgets"
   ]
  },
  {
   "cell_type": "code",
   "execution_count": null,
   "metadata": {},
   "outputs": [
    {
     "data": {
      "application/vnd.jupyter.widget-view+json": {
       "model_id": "641754b90acf4875ad066667bafcb031",
       "version_major": 2,
       "version_minor": 0
      },
      "text/plain": [
       "IntSlider(value=0, max=512)"
      ]
     },
     "metadata": {},
     "output_type": "display_data"
    },
    {
     "data": {
      "application/vnd.jupyter.widget-view+json": {
       "model_id": "0d001d3c65eb4c10bb27553af8a24660",
       "version_major": 2,
       "version_minor": 0
      },
      "text/plain": [
       "IntSlider(value=0, max=512)"
      ]
     },
     "metadata": {},
     "output_type": "display_data"
    }
   ],
   "source": [
    "import paho.mqtt.client as mqtt\n",
    "import time\n",
    "import ipywidgets\n",
    "\n",
    "sld_a = ipywidgets.IntSlider()\n",
    "sld_a.max = 512\n",
    "sld_b = ipywidgets.IntSlider()\n",
    "sld_b.max = 512\n",
    "\n",
    "display(sld_a)\n",
    "display(sld_b)\n",
    "\n",
    "\n",
    "def on_message(client, userdata, message):\n",
    "    #print(\"message received \" ,message.payload.decode(\"utf-8\"))\n",
    "    #print(int(message.payload.decode(\"utf-8\")))\n",
    "\n",
    "    if message.topic == \"etas/a\":\n",
    "        #print(int(message.payload.decode(\"utf-8\")))\n",
    "        value_a = int(message.payload.decode(\"utf-8\"))\n",
    "        sld_a.value = value_a \n",
    "    if message.topic == \"etas/b\":\n",
    "        value_b = int(message.payload.decode(\"utf-8\"))\n",
    "        sld_b.value = value_b \n",
    "\n",
    "broker_address=\"192.168.1.184\"\n",
    "broker_address = \"localhost\"\n",
    "broker_address = \"iot.eclipse.org\"\n",
    "broker_address = \"broker.hivemq.com\"\n",
    "broker_address = \"test.mosquitto.org\"\n",
    "broker_address = \"192.168.0.19\"\n",
    "\n",
    "client = mqtt.Client(\"P1\") #create new instance\n",
    "client.connect(broker_address, 1883)\n",
    "client.on_message=on_message #attach function to callback\n",
    "client.subscribe(\"etas/a\")\n",
    "client.subscribe(\"etas/b\")\n",
    "#client.loop_start() #start the loop\n",
    "client.loop_forever() #start the loop\n",
    "#time.sleep(20) # wait\n",
    "#client.loop_stop() #stop the loop\n",
    "\n"
   ]
  },
  {
   "cell_type": "code",
   "execution_count": null,
   "metadata": {},
   "outputs": [],
   "source": [
    "a=2"
   ]
  },
  {
   "cell_type": "code",
   "execution_count": null,
   "metadata": {},
   "outputs": [],
   "source": [
    "for it in range(512):\n",
    "    #sld_a.value = it\n",
    "    sld_a.value = client.subscribe(\"test/a\")[1]"
   ]
  },
  {
   "cell_type": "code",
   "execution_count": 4,
   "metadata": {},
   "outputs": [
    {
     "name": "stdout",
     "output_type": "stream",
     "text": [
      "Subscribing to topic test/a\n"
     ]
    },
    {
     "ename": "NameError",
     "evalue": "name 'client' is not defined",
     "output_type": "error",
     "traceback": [
      "\u001b[1;31m---------------------------------------------------------------------------\u001b[0m",
      "\u001b[1;31mNameError\u001b[0m                                 Traceback (most recent call last)",
      "\u001b[1;32m<ipython-input-4-59982c487fe8>\u001b[0m in \u001b[0;36m<module>\u001b[1;34m\u001b[0m\n\u001b[0;32m      1\u001b[0m \u001b[0mprint\u001b[0m\u001b[1;33m(\u001b[0m\u001b[1;34m\"Subscribing to topic\"\u001b[0m\u001b[1;33m,\u001b[0m\u001b[1;34m\"test/a\"\u001b[0m\u001b[1;33m)\u001b[0m\u001b[1;33m\u001b[0m\u001b[1;33m\u001b[0m\u001b[0m\n\u001b[1;32m----> 2\u001b[1;33m \u001b[0mclient\u001b[0m\u001b[1;33m.\u001b[0m\u001b[0msubscribe\u001b[0m\u001b[1;33m(\u001b[0m\u001b[1;34m\"test/a\"\u001b[0m\u001b[1;33m)\u001b[0m\u001b[1;33m\u001b[0m\u001b[1;33m\u001b[0m\u001b[0m\n\u001b[0m\u001b[0;32m      3\u001b[0m \u001b[0mprint\u001b[0m\u001b[1;33m(\u001b[0m\u001b[1;34m\"Publishing message to topic\"\u001b[0m\u001b[1;33m,\u001b[0m\u001b[1;34m\"test/a\"\u001b[0m\u001b[1;33m)\u001b[0m\u001b[1;33m\u001b[0m\u001b[1;33m\u001b[0m\u001b[0m\n\u001b[0;32m      4\u001b[0m \u001b[1;31m#client.publish(\"test/a\",25)\u001b[0m\u001b[1;33m\u001b[0m\u001b[1;33m\u001b[0m\u001b[1;33m\u001b[0m\u001b[0m\n\u001b[0;32m      5\u001b[0m \u001b[0mtime\u001b[0m\u001b[1;33m.\u001b[0m\u001b[0msleep\u001b[0m\u001b[1;33m(\u001b[0m\u001b[1;36m20\u001b[0m\u001b[1;33m)\u001b[0m \u001b[1;31m# wait\u001b[0m\u001b[1;33m\u001b[0m\u001b[1;33m\u001b[0m\u001b[0m\n",
      "\u001b[1;31mNameError\u001b[0m: name 'client' is not defined"
     ]
    }
   ],
   "source": [
    "print(\"Subscribing to topic\",\"test/a\")\n",
    "client.subscribe(\"test/a\")\n",
    "print(\"Publishing message to topic\",\"test/a\")\n",
    "#client.publish(\"test/a\",25)\n",
    "time.sleep(20) # wait\n",
    "client.loop_stop() #stop the loop"
   ]
  },
  {
   "cell_type": "code",
   "execution_count": 36,
   "metadata": {},
   "outputs": [
    {
     "name": "stdout",
     "output_type": "stream",
     "text": [
      "(0, 3)\n"
     ]
    }
   ],
   "source": [
    "client.connect(\"localhost\", 1883, 60)\n",
    "a = client.subscribe(\"test/a\")\n",
    "print(a)"
   ]
  },
  {
   "cell_type": "code",
   "execution_count": null,
   "metadata": {},
   "outputs": [],
   "source": [
    "client.disconnect();"
   ]
  }
 ],
 "metadata": {
  "kernelspec": {
   "display_name": "Python 3",
   "language": "python",
   "name": "python3"
  }
 },
 "nbformat": 4,
 "nbformat_minor": 2
}
