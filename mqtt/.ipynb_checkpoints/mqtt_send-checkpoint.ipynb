{
 "cells": [
  {
   "cell_type": "code",
   "execution_count": null,
   "metadata": {},
   "outputs": [],
   "source": [
    "import paho.mqtt.client as mqtt\n",
    "import time\n",
    "# This is the Publisher\n",
    "\n",
    "client = mqtt.Client()\n",
    "#client.connect(\"iot.eclipse.org\", 1883, 60)\n",
    "#client.connect(\"broker.hivemq.com\", port=1883, keepalive=60)\n",
    "#client.connect(\"test.mosquitto.org\", port=1883, keepalive=60)\n",
    "#client.connect(\"192.168.0.13\", 1883)\n",
    "client.connect(\"localhost\", 1883, 60)\n",
    "tic = time.time()\n",
    "client.publish(\"test/a\", f\"{tic}\");\n",
    "client.disconnect();"
   ]
  }
 ],
 "metadata": {
  "kernelspec": {
   "display_name": "Python 3",
   "language": "python",
   "name": "python3"
  },
  "language_info": {
   "codemirror_mode": {
    "name": "ipython",
    "version": 3
   },
   "file_extension": ".py",
   "mimetype": "text/x-python",
   "name": "python",
   "nbconvert_exporter": "python",
   "pygments_lexer": "ipython3",
   "version": "3.7.1"
  }
 },
 "nbformat": 4,
 "nbformat_minor": 2
}
