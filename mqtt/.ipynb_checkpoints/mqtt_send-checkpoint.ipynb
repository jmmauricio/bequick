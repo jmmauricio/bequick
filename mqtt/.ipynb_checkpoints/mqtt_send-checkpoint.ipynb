{
 "cells": [
  {
   "cell_type": "code",
   "execution_count": 1,
   "metadata": {},
   "outputs": [],
   "source": [
    "import paho.mqtt.client as mqtt\n",
    "import time\n",
    "import ipywidgets"
   ]
  },
  {
   "cell_type": "code",
   "execution_count": 2,
   "metadata": {},
   "outputs": [
    {
     "data": {
      "application/vnd.jupyter.widget-view+json": {
       "model_id": "8ca261c81bd54b1eb74c6f697bc02822",
       "version_major": 2,
       "version_minor": 0
      },
      "text/plain": [
       "IntSlider(value=0, max=512)"
      ]
     },
     "metadata": {},
     "output_type": "display_data"
    },
    {
     "data": {
      "application/vnd.jupyter.widget-view+json": {
       "model_id": "e927da5cb063455584f5e449acebfa5d",
       "version_major": 2,
       "version_minor": 0
      },
      "text/plain": [
       "IntSlider(value=0, max=512)"
      ]
     },
     "metadata": {},
     "output_type": "display_data"
    }
   ],
   "source": [
    "broker_address=\"192.168.1.184\"\n",
    "broker_address = \"localhost\"\n",
    "broker_address = \"iot.eclipse.org\"\n",
    "broker_address = \"broker.hivemq.com\"\n",
    "broker_address = \"test.mosquitto.org\"\n",
    "broker_address = \"192.168.0.19\"\n",
    "\n",
    "client = mqtt.Client(\"P2\") #create new instance\n",
    "client.connect(broker_address) #connect to broker\n",
    "client.subscribe(\"rotation/z\")\n",
    "client.subscribe(\"etas/a\")\n",
    "client.subscribe(\"etas/b\")\n",
    "\n",
    "def update_a(value):\n",
    "    client.publish(\"etas/a\", value['new'])\n",
    "\n",
    "def update_b(value):\n",
    "    client.publish(\"etas/b\", value['new'])\n",
    "    \n",
    "sld_a = ipywidgets.IntSlider()\n",
    "sld_a.max = 512\n",
    "sld_a.observe(update_a, names='value')\n",
    "sld_b = ipywidgets.IntSlider()\n",
    "sld_b.max = 512\n",
    "sld_b.observe(update_b, names='value')\n",
    "\n",
    "display(sld_a)\n",
    "display(sld_b)\n"
   ]
  },
  {
   "cell_type": "code",
   "execution_count": null,
   "metadata": {},
   "outputs": [],
   "source": []
  }
 ],
 "metadata": {
  "kernelspec": {
   "display_name": "Python 3",
   "language": "python",
   "name": "python3"
  },
  "language_info": {
   "codemirror_mode": {
    "name": "ipython",
    "version": 3
   },
   "file_extension": ".py",
   "mimetype": "text/x-python",
   "name": "python",
   "nbconvert_exporter": "python",
   "pygments_lexer": "ipython3",
   "version": "3.7.1"
  }
 },
 "nbformat": 4,
 "nbformat_minor": 2
}
