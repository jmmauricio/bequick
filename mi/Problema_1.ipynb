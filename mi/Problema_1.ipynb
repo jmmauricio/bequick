{
 "cells": [
  {
   "cell_type": "markdown",
   "metadata": {},
   "source": [
    "# Máquina de inducción "
   ]
  },
  {
   "cell_type": "markdown",
   "metadata": {},
   "source": [
    "## Problema 1"
   ]
  },
  {
   "cell_type": "markdown",
   "metadata": {},
   "source": [
    "Un compresor de aire como el mostrado en la figura está propulsado por  un motor de inducción trifásico de 400 V, 50 Hz, 3 kW y velocidad nominal de 1420r/m (dos pares de polos). \n",
    "\n",
    "<img src=\"./figs/SEV11C100.jpg\" alt=\"Alt text that describes the graphic\" title=\"Title text\" width=400 />\n",
    "\n",
    "El fabricante brinda los datos del circuito equivalente en la siguiente figura. Los parámetros a considerar son lo asociados al punto de funcionamiento nominal.\n",
    "\n",
    "<img src=\"./figs/abb_3kW_eq.png\" alt=\"Alt text that describes the graphic\" title=\"Title text\" width=600 />\n",
    "\n",
    "Las pérdidas mecánicas se encuentran incluidas en la resistencia $R_{fr+iron} $\n",
    "\n",
    "Si el motor se encuentra en un punto de funcionamiento para el cual su velocidad de giro es de  1430 rpm, calcular:\n",
    "\n",
    "- Deslizamiento\t\n",
    "- Módulo de la corriente absorbida por el motor\n",
    "- Factor de potencia\n",
    "- Potencia activa absorbida de la red\n",
    "- Potencia reactiva absorbida de la red\n",
    "- Potencia útil\n",
    "- Rendimiento \t\n",
    "\n",
    "\n",
    "Nota: Utilizar el modelo \"exacto\".\n",
    "\n"
   ]
  },
  {
   "cell_type": "code",
   "execution_count": 3,
   "metadata": {},
   "outputs": [
    {
     "name": "stdout",
     "output_type": "stream",
     "text": [
      "Corriente: I_1 = 5.48 A\n",
      "Factor de potencia: cos(ϕ) = 0.84\n",
      "Potencia activa: P_1 = 3196.72 W\n",
      "Potencia reactiva: Q_1 = 2042.82 var\n",
      "Potencia útil: P_u = 2728.07 W\n",
      "Rendimiento: η = 0.85\n"
     ]
    }
   ],
   "source": [
    "import numpy as np\n",
    "\n",
    "## Datos\n",
    "\n",
    "R_1 = 2.5\n",
    "X_1 = 2.4\n",
    "\n",
    "R_fe = 1309\n",
    "X_mu = 82\n",
    "\n",
    "R_2 = 2.3\n",
    "X_2 = 2.9\n",
    "\n",
    "n_1 = 1500\n",
    "\n",
    "# Velocidad de giro\n",
    "n = 1430\n",
    "\n",
    "\n",
    "# Delizamiento\n",
    "s = (n_1 - n)/n\n",
    "\n",
    "# Impedancia equivalente\n",
    "Z_1 = R_1 + 1j*X_1\n",
    "Z_2 = R_2/s + 1j*X_2\n",
    "Z_e = R_fe*1j*X_mu/(R_fe + 1j*X_mu)\n",
    "\n",
    "Z_2e = Z_2*Z_e/(Z_2 + Z_e)\n",
    "\n",
    "Z_eq = Z_1+Z_2e\n",
    "Z_eq\n",
    "\n",
    "# Tensión\n",
    "V_1 = 400/np.sqrt(3)*np.exp(1j*0)\n",
    "\n",
    "# Módulo de la corriente absorbida por el motor\n",
    "I_1 = V_1/Z_eq\n",
    "print(f'Corriente: I_1 = {np.abs(I_1):0.2f} A')\n",
    "\n",
    "# Factor de potencia\n",
    "cos_phi = np.cos(np.angle(I_1))\n",
    "print(f'Factor de potencia: cos(ϕ) = {cos_phi:0.2f}')\n",
    "\n",
    "# Potencia activa absorbida de la red\n",
    "S_1 = 3*V_1*np.conj(I_1)\n",
    "P_1 = S_1.real\n",
    "print(f'Potencia activa: P_1 = {P_1:0.2f} W')\n",
    "\n",
    "# Potencia reactiva absorbida de la red\n",
    "Q_1 = S_1.imag\n",
    "print(f'Potencia reactiva: Q_1 = {Q_1:0.2f} var')\n",
    "\n",
    "E_1 = V_1 - Z_1*I_1\n",
    "\n",
    "I_2 = E_1/Z_2\n",
    "\n",
    "# Potencia útil\n",
    "P_mi = 3*R_2*(1-s)/s*np.abs(I_2)**2\n",
    "P_u = P_mi\n",
    "print(f'Potencia útil: P_u = {P_u:0.2f} W')\n",
    "\n",
    "# Rendimiento\n",
    "rend = P_u/S_1.real\n",
    "print(f'Rendimiento: η = {rend:0.2f}')"
   ]
  },
  {
   "cell_type": "code",
   "execution_count": null,
   "metadata": {},
   "outputs": [],
   "source": []
  }
 ],
 "metadata": {
  "kernelspec": {
   "display_name": "Python 3",
   "language": "python",
   "name": "python3"
  },
  "language_info": {
   "codemirror_mode": {
    "name": "ipython",
    "version": 3
   },
   "file_extension": ".py",
   "mimetype": "text/x-python",
   "name": "python",
   "nbconvert_exporter": "python",
   "pygments_lexer": "ipython3",
   "version": "3.7.7"
  }
 },
 "nbformat": 4,
 "nbformat_minor": 4
}
