{
 "cells": [
  {
   "cell_type": "markdown",
   "metadata": {},
   "source": [
    "# Máquina de inducción "
   ]
  },
  {
   "cell_type": "markdown",
   "metadata": {},
   "source": [
    "## Problema 2"
   ]
  },
  {
   "cell_type": "markdown",
   "metadata": {},
   "source": [
    "Una máquina de inducción de 90 kW, 400V, 50Hz conexión estrella, se quiere \n",
    "utilizar como generador en una central hidroelectrica.\n",
    "\n",
    "<img src=\"./figs/imib.svg\" alt=\"Alt text that describes the graphic\" title=\"Title text\" width=500 />\n",
    "\n",
    "\n",
    "Si la turbina entrega en el eje una potencia de 90 kW y el generador se \n",
    "conecta a una barra de tensión, fase y frecuencia constantes (barra infinita) calcule:\n",
    "\n",
    "1. Deslizamiento.\n",
    "2. Modulo de la corriente rotorica.\n",
    "3. Modulo de la corriente estatorica.\n",
    "4. Potencia activa inyectada a la red.\n",
    "5. Potencia reactiva inyectada a la red.\n",
    "6. Rendimiento.\n",
    "7. Capacidad C de cada condensador de un banco conectado en estrella para que absorber potencia reactiva nula de la red.\n",
    "\n",
    "\n",
    "El fabricante brinda los datos del circuito equivalente en la siguiente figura. Los parámetros a considerar son lo asociados al punto de funcionamiento nominal.\n",
    "\n",
    "<img src=\"./figs/abb_90kW_eq.png\" alt=\"Alt text that describes the graphic\" title=\"Title text\" width=600 />\n",
    "\n",
    "Las pérdidas mecánicas se encuentran incluidas en la resistencia $\\sf R_{fr+iron} $"
   ]
  },
  {
   "cell_type": "code",
   "execution_count": null,
   "metadata": {},
   "outputs": [],
   "source": []
  },
  {
   "cell_type": "code",
   "execution_count": 1,
   "metadata": {},
   "outputs": [
    {
     "data": {
      "text/plain": [
       "296700"
      ]
     },
     "execution_count": 1,
     "metadata": {},
     "output_type": "execute_result"
    }
   ],
   "source": [
    "430*690"
   ]
  },
  {
   "cell_type": "code",
   "execution_count": null,
   "metadata": {},
   "outputs": [],
   "source": []
  }
 ],
 "metadata": {
  "kernelspec": {
   "display_name": "Python 3",
   "language": "python",
   "name": "python3"
  },
  "language_info": {
   "codemirror_mode": {
    "name": "ipython",
    "version": 3
   },
   "file_extension": ".py",
   "mimetype": "text/x-python",
   "name": "python",
   "nbconvert_exporter": "python",
   "pygments_lexer": "ipython3",
   "version": "3.7.7"
  }
 },
 "nbformat": 4,
 "nbformat_minor": 4
}
