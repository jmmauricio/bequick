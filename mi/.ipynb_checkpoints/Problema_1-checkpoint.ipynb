{
 "cells": [
  {
   "cell_type": "markdown",
   "metadata": {},
   "source": [
    "# Máquina de inducción "
   ]
  },
  {
   "cell_type": "markdown",
   "metadata": {},
   "source": [
    "## Problema 1"
   ]
  },
  {
   "cell_type": "markdown",
   "metadata": {},
   "source": [
    "Un compresor de aire como el mostrado en la figura está propulsado por  un motor de inducción trifásico de 400 V, 50 Hz, 3 kW y velocidad nominal de 1420r/m (dos pares de polos). \n",
    "\n",
    "<img src=\"./figs/SEV11C100.jpg\" alt=\"Alt text that describes the graphic\" title=\"Title text\" width=400 />\n",
    "\n",
    "El fabricante brinda los datos del circuito equivalente en la siguiente figura. Los parámetros a considerar son lo asociados al punto de funcionamiento nominal.\n",
    "\n",
    "<img src=\"./figs/abb_3kW_eq.png\" alt=\"Alt text that describes the graphic\" title=\"Title text\" width=600 />\n",
    "\n",
    "Las pérdidas mecánicas se encuentran incluidas en la resistencia $R_{fr+iron} $\n",
    "\n",
    "Si el motor se encuentra en un punto de funcionamiento para el cual su velocidad de giro es de  1430 rpm, calcular:\n",
    "\n",
    "- Deslizamiento\t\n",
    "- Módulo de la corriente absorbida por el motor\n",
    "- Factor de potencia\n",
    "- Potencia activa absorbida de la red\n",
    "- Potencia reactiva absorbida de la red\n",
    "- Potencia útil\n",
    "- Rendimiento \t\n",
    "\n",
    "\n",
    "Nota: Utilizar el modelo \"exacto\".\n",
    "\n"
   ]
  },
  {
   "cell_type": "code",
   "execution_count": null,
   "metadata": {},
   "outputs": [],
   "source": []
  }
 ],
 "metadata": {
  "kernelspec": {
   "display_name": "Python 3",
   "language": "python",
   "name": "python3"
  },
  "language_info": {
   "codemirror_mode": {
    "name": "ipython",
    "version": 3
   },
   "file_extension": ".py",
   "mimetype": "text/x-python",
   "name": "python",
   "nbconvert_exporter": "python",
   "pygments_lexer": "ipython3",
   "version": "3.7.7"
  }
 },
 "nbformat": 4,
 "nbformat_minor": 4
}
